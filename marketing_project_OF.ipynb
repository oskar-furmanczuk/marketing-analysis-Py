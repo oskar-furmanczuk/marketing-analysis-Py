{
 "cells": [
  {
   "cell_type": "markdown",
   "metadata": {},
   "source": [
    "# ANALYSIS ON BANK_DATA_PREDICTION DATA SET\n",
    "## _PREPARED BY OSKAR FURMANCZUK_\n",
    "\n",
    "* low-level overview -> comments\n",
    "* high-level overview -> markdown\n",
    "\n",
    "### _Approach description_\n",
    "\n",
    "To improve marketing campaign efficiency I want to build a model that takes information about clients and current macroeconomic indicators as inputs and returns 'y' column (which indicates a sold product). To build that model I will use the control group subset. The model on this set will indicate which person is highly interested in the matter of the campaign. Then I will compare model output with real labels of the campaign subset to calculate lift of implementing such a solution. I won't build model on campaign group subset because character of marketing contact (e.g. marker's voice, time of the day when contact was made) might highly impact people's decisions, thus deflect correlation with data."
   ]
  },
  {
   "cell_type": "markdown",
   "metadata": {},
   "source": [
    "### Importing basic packages an reading the data"
   ]
  },
  {
   "cell_type": "code",
   "execution_count": 1,
   "metadata": {},
   "outputs": [],
   "source": [
    "import pandas as pd\n",
    "import numpy as np\n",
    "import matplotlib.pyplot as plt"
   ]
  },
  {
   "cell_type": "code",
   "execution_count": 2,
   "metadata": {},
   "outputs": [
    {
     "data": {
      "text/plain": [
       "(41188, 22)"
      ]
     },
     "execution_count": 2,
     "metadata": {},
     "output_type": "execute_result"
    }
   ],
   "source": [
    "df = pd.read_csv('bank_data_prediction_task.csv', index_col=0, low_memory=False)\n",
    "df.shape"
   ]
  },
  {
   "cell_type": "markdown",
   "metadata": {},
   "source": [
    "### DATA CLEANING\n",
    "To check which rows contain the least data I counted \"unknown\" for every row"
   ]
  },
  {
   "cell_type": "code",
   "execution_count": 3,
   "metadata": {},
   "outputs": [],
   "source": [
    "# counting \"unknown\" for every row\n",
    "l = []\n",
    "for i, r in df.iterrows():\n",
    "    z = 0\n",
    "    for j in r.values:\n",
    "        if \"unknown\" in str(j):\n",
    "            z += 1\n",
    "    l.append((i,z))\n",
    "\n",
    "l_2 = [k[1] for k in l]"
   ]
  },
  {
   "cell_type": "code",
   "execution_count": 4,
   "metadata": {},
   "outputs": [
    {
     "data": {
      "image/png": "[encoded data removed]",
      "text/plain": [
       "<Figure size 432x288 with 1 Axes>"
      ]
     },
     "metadata": {
      "needs_background": "light"
     },
     "output_type": "display_data"
    }
   ],
   "source": [
    "# histogram for number of \"unknows\" \n",
    "l_2 = [k[1] for k in l]\n",
    "\n",
    "plt.hist(l_2)\n",
    "plt.show()"
   ]
  },
  {
   "cell_type": "code",
   "execution_count": 5,
   "metadata": {},
   "outputs": [
    {
     "data": {
      "text/plain": [
       "[(0, 0.7402155967757599),\n",
       " (1, 0.219335728853064),\n",
       " (2, 0.0324851898611246),\n",
       " (3, 0.0074293483538894825),\n",
       " (4, 0.0004855783237836263),\n",
       " (5, 4.855783237836263e-05)]"
      ]
     },
     "execution_count": 5,
     "metadata": {},
     "output_type": "execute_result"
    }
   ],
   "source": [
    "# freq of number of \"unknows\"\n",
    "freq_l = [(k,l_2.count(k)/len(l_2)) for k in range(6)]\n",
    "freq_l"
   ]
  },
  {
   "cell_type": "markdown",
   "metadata": {},
   "source": [
    "To decide what number of \"unknown\"s per row has to be left I checked the differences between next values"
   ]
  },
  {
   "cell_type": "code",
   "execution_count": 6,
   "metadata": {},
   "outputs": [
    {
     "name": "stdout",
     "output_type": "stream",
     "text": [
      "3.3748062873588665\n",
      "6.751868460388639\n",
      "4.372549019607843\n",
      "15.3\n",
      "10.0\n",
      "last row cannot be divided\n"
     ]
    }
   ],
   "source": [
    "# calc to decide what number of \"unknows\" is too much\n",
    "for i in range(len(freq_l)):\n",
    "    try:\n",
    "        print(freq_l[i][1]/freq_l[i+1][1])\n",
    "    except:\n",
    "        print(\"last row cannot be divided\")"
   ]
  },
  {
   "cell_type": "markdown",
   "metadata": {},
   "source": [
    "* 15,3 is the highest so I dropped rows with more than 3 \"unknown\"s (dropped less than 1% of the whole data set)"
   ]
  },
  {
   "cell_type": "code",
   "execution_count": 7,
   "metadata": {},
   "outputs": [],
   "source": [
    "# returning numbers of rows where count of \"unknown\" is equal or more than 4\n",
    "l_index = []\n",
    "for p in l:\n",
    "    if p[1] >= 4 :\n",
    "        l_index.append(p[0] - 1)"
   ]
  },
  {
   "cell_type": "code",
   "execution_count": 8,
   "metadata": {},
   "outputs": [],
   "source": [
    "# dropping unwanted rows\n",
    "df_cleaned = df.drop(l_index)"
   ]
  },
  {
   "cell_type": "markdown",
   "metadata": {},
   "source": [
    "I also dropped rows where \"cons.price.idx\" is NA. There is only 113 rows like that (0.27% of the whole data set)."
   ]
  },
  {
   "cell_type": "code",
   "execution_count": 9,
   "metadata": {},
   "outputs": [],
   "source": [
    "# dropping rows where \"cons.price.idx\" is NA \n",
    "N = df_cleaned[\"cons.price.idx\"]\n",
    "df_cleaned = df_cleaned[pd.notna(N)]"
   ]
  },
  {
   "cell_type": "markdown",
   "metadata": {},
   "source": [
    "### PREPROCESSING"
   ]
  },
  {
   "cell_type": "code",
   "execution_count": 10,
   "metadata": {},
   "outputs": [],
   "source": [
    "# imports from sklearn\n",
    "from sklearn.compose import make_column_transformer\n",
    "from sklearn.preprocessing import OneHotEncoder\n",
    "from sklearn.linear_model import LogisticRegression\n",
    "from sklearn.pipeline import make_pipeline\n",
    "from sklearn.model_selection import cross_val_score\n",
    "from sklearn.model_selection import GridSearchCV\n",
    "from sklearn.ensemble import RandomForestClassifier\n",
    "from sklearn.naive_bayes import GaussianNB\n",
    "from sklearn.neighbors import KNeighborsClassifier\n",
    "from sklearn.tree import DecisionTreeClassifier\n",
    "from sklearn.svm import SVC\n",
    "from sklearn.model_selection import train_test_split\n",
    "from sklearn.metrics import roc_curve, roc_auc_score\n",
    "from sklearn.model_selection import cross_validate\n",
    "from sklearn.metrics import confusion_matrix, recall_score, precision_score"
   ]
  },
  {
   "cell_type": "code",
   "execution_count": 11,
   "metadata": {},
   "outputs": [],
   "source": [
    "# dividing dfs into two sets\n",
    "df_contr = df_cleaned[(df_cleaned.test_control_flag =='control group')]\n",
    "df_camp = df_cleaned[(df_cleaned.test_control_flag =='campaign group')]"
   ]
  },
  {
   "cell_type": "markdown",
   "metadata": {},
   "source": [
    "To select proper columns for input I dropped all \"NA\" colums, label column and \"test_control_flag\" column"
   ]
  },
  {
   "cell_type": "code",
   "execution_count": 12,
   "metadata": {},
   "outputs": [],
   "source": [
    "# dividing columns into inputs and labels\n",
    "X_contr = df_contr.drop([\"contact\", \"month\", \"default\", \"day_of_week\", \"duration\", \"campaign\", \"y\", \"test_control_flag\"], axis = \"columns\")\n",
    "y_contr = df_contr[[\"y\"]]"
   ]
  },
  {
   "cell_type": "code",
   "execution_count": 13,
   "metadata": {},
   "outputs": [],
   "source": [
    "# transforming data so they could be interpreted by algorithms\n",
    "column_trans = make_column_transformer(\n",
    "    (OneHotEncoder(), ['job', 'marital', 'education', 'housing', 'loan', 'poutcome']),\n",
    "    remainder='passthrough')\n",
    "\n",
    "X_contr_transformed = column_trans.fit_transform(X_contr)\n",
    "y_contr_transformed = np.ravel(y_contr)\n",
    "\n",
    "l = []\n",
    "for i in y_contr_transformed:\n",
    "    if i == \"yes\":\n",
    "        l.append(1)\n",
    "    else:\n",
    "        l.append(0)\n",
    "\n",
    "y_contr_transformed = l"
   ]
  },
  {
   "cell_type": "code",
   "execution_count": 14,
   "metadata": {},
   "outputs": [],
   "source": [
    "# performing train_test_split\n",
    "X_train, X_test, y_train, y_test = train_test_split(X_contr_transformed, y_contr_transformed, test_size=.3, random_state=27)"
   ]
  },
  {
   "cell_type": "markdown",
   "metadata": {},
   "source": [
    "### SELECTING THE MOST ACCURATE TYPE OF MODEL\n",
    "To select the best algorithm I used cross_val_score with multiple defaultly set models. For that kind of sparse label column I decided that area under the ROC curve will be the best parameter to look at."
   ]
  },
  {
   "cell_type": "code",
   "execution_count": 15,
   "metadata": {},
   "outputs": [
    {
     "data": {
      "text/plain": [
       "0.14267201896111428"
      ]
     },
     "execution_count": 15,
     "metadata": {},
     "output_type": "execute_result"
    }
   ],
   "source": [
    "# testing random forest\n",
    "reg = RandomForestClassifier()\n",
    "cross_val_score(reg, X_contr_transformed, y_contr_transformed, cv=5, scoring='roc_auc').mean()"
   ]
  },
  {
   "cell_type": "code",
   "execution_count": 16,
   "metadata": {},
   "outputs": [
    {
     "data": {
      "text/plain": [
       "0.30124891453297087"
      ]
     },
     "execution_count": 16,
     "metadata": {},
     "output_type": "execute_result"
    }
   ],
   "source": [
    "# testing DecisionTreeClassifier\n",
    "reg = DecisionTreeClassifier()\n",
    "cross_val_score(reg, X_contr_transformed, y_contr_transformed, cv=5, scoring='roc_auc').mean()"
   ]
  },
  {
   "cell_type": "code",
   "execution_count": 17,
   "metadata": {
    "scrolled": true
   },
   "outputs": [
    {
     "data": {
      "text/plain": [
       "0.39474650010739704"
      ]
     },
     "execution_count": 17,
     "metadata": {},
     "output_type": "execute_result"
    }
   ],
   "source": [
    "# testing KNeighborsClassifier\n",
    "reg = KNeighborsClassifier()\n",
    "cross_val_score(reg, X_contr_transformed, y_contr_transformed, cv=5, scoring='roc_auc').mean()"
   ]
  },
  {
   "cell_type": "code",
   "execution_count": 18,
   "metadata": {},
   "outputs": [
    {
     "data": {
      "text/plain": [
       "0.5501490358655179"
      ]
     },
     "execution_count": 18,
     "metadata": {},
     "output_type": "execute_result"
    }
   ],
   "source": [
    "# testing SVC\n",
    "reg = SVC()\n",
    "cross_val_score(reg, X_contr_transformed, y_contr_transformed, cv=5, scoring='roc_auc').mean()"
   ]
  },
  {
   "cell_type": "code",
   "execution_count": 19,
   "metadata": {},
   "outputs": [
    {
     "data": {
      "text/plain": [
       "0.6541957670616823"
      ]
     },
     "execution_count": 19,
     "metadata": {},
     "output_type": "execute_result"
    }
   ],
   "source": [
    "# testing logistic regression\n",
    "reg = LogisticRegression(max_iter = 1000)\n",
    "cross_val_score(reg, X_contr_transformed, y_contr_transformed, cv=5, scoring='roc_auc').mean()"
   ]
  },
  {
   "cell_type": "code",
   "execution_count": 20,
   "metadata": {},
   "outputs": [
    {
     "data": {
      "text/plain": [
       "0.72864299748848"
      ]
     },
     "execution_count": 20,
     "metadata": {},
     "output_type": "execute_result"
    }
   ],
   "source": [
    "# testing GaussianNB\n",
    "reg = GaussianNB()\n",
    "cross_val_score(reg, X_contr_transformed, y_contr_transformed, cv=5, scoring='roc_auc').mean()"
   ]
  },
  {
   "cell_type": "markdown",
   "metadata": {},
   "source": [
    "* the highiest scores have: GaussianNB, LogisticRegression and SVC"
   ]
  },
  {
   "cell_type": "markdown",
   "metadata": {},
   "source": [
    "### HYPERPARAMETER TUNING FOR LOGISTIC REGRESSION AND SVC\n",
    "\n",
    "To obtain the best scores of AUC as well as better insight into the models' characteristics I will tune them using GridSearchCV. Then I will choose the best parameters for each of them.\n",
    "\n",
    "_Disclaimer:_ Tuning could be done much more precise (using bigger number of: parameters, CVs and proposed values). However, my current machine does not allowed to do it effectively"
   ]
  },
  {
   "cell_type": "code",
   "execution_count": 21,
   "metadata": {},
   "outputs": [
    {
     "name": "stdout",
     "output_type": "stream",
     "text": [
      "{'C': 3.593813663804626, 'max_iter': 1000}\n",
      "0.7618424270219383\n"
     ]
    }
   ],
   "source": [
    "# performing GridSearchCV for logistic regression\n",
    "\n",
    "param_grid = {\"C\":np.logspace(-5,5,10), \"max_iter\": [1000]}\n",
    "logreg = LogisticRegression()\n",
    "grid_logreg = GridSearchCV(logreg, param_grid, cv=5, n_jobs=-1, scoring = 'roc_auc')\n",
    "grid_logreg.fit(X_train, y_train)\n",
    "\n",
    "C_logreg = grid_logreg.best_params_[\"C\"]\n",
    "print(grid_logreg.best_params_)\n",
    "print(grid_logreg.best_score_)"
   ]
  },
  {
   "cell_type": "code",
   "execution_count": 22,
   "metadata": {},
   "outputs": [
    {
     "name": "stdout",
     "output_type": "stream",
     "text": [
      "0.9098555877084195\n",
      "0.9094487161820771\n"
     ]
    }
   ],
   "source": [
    "# checkin accuracy score in tuned logreg model vs default logreg model\n",
    "\n",
    "logreg = LogisticRegression(C = C_logreg, max_iter = 1000)\n",
    "print(cross_val_score(logreg, X_test, y_test, cv=5, scoring='accuracy').mean())\n",
    "\n",
    "logreg = LogisticRegression(max_iter = 1000)\n",
    "print(cross_val_score(logreg, X_test, y_test, cv=5, scoring='accuracy').mean())"
   ]
  },
  {
   "cell_type": "code",
   "execution_count": 23,
   "metadata": {},
   "outputs": [
    {
     "name": "stdout",
     "output_type": "stream",
     "text": [
      "{'C': 0.1, 'gamma': 0.1}\n",
      "0.7076702565077518\n"
     ]
    }
   ],
   "source": [
    "# performing GridSearchCV for SVC\n",
    "param_grid = {'C': [0.01, 0.1, 1], 'gamma': [1, 0.1, 0.01] }\n",
    "reg = SVC()\n",
    "\n",
    "grid_svc = GridSearchCV(reg, param_grid ,cv = 3, n_jobs= -1, scoring = 'roc_auc')\n",
    "grid_svc.fit(X_test, y_test)\n",
    "\n",
    "C_svc = grid_svc.best_params_[\"C\"]\n",
    "gamma_svc = grid_svc.best_params_[\"gamma\"]\n",
    "print(grid_svc.best_params_)\n",
    "print(grid_svc.best_score_)\n",
    "\n",
    "#TAKES LONG"
   ]
  },
  {
   "cell_type": "code",
   "execution_count": 24,
   "metadata": {},
   "outputs": [
    {
     "name": "stdout",
     "output_type": "stream",
     "text": [
      "0.9099905110478513\n",
      "0.9099905110478513\n"
     ]
    }
   ],
   "source": [
    "# checkin accuracy score for tuned SVC model vs default SVC model\n",
    "reg = SVC(C = C_svc, gamma = gamma_svc)\n",
    "print(cross_val_score(logreg, X_test, y_test, cv=3, scoring='accuracy').mean())\n",
    "\n",
    "reg = SVC()\n",
    "print(cross_val_score(logreg, X_test, y_test, cv=3, scoring='accuracy').mean())"
   ]
  },
  {
   "cell_type": "code",
   "execution_count": 25,
   "metadata": {},
   "outputs": [
    {
     "data": {
      "text/plain": [
       "0.8297395618023977"
      ]
     },
     "execution_count": 25,
     "metadata": {},
     "output_type": "execute_result"
    }
   ],
   "source": [
    "# checkin accuracy for GaussianNB\n",
    "reg_gaus = GaussianNB()\n",
    "cross_val_score(reg_gaus, X_test, y_test, cv=5, scoring='accuracy').mean()"
   ]
  },
  {
   "cell_type": "markdown",
   "metadata": {},
   "source": [
    "* after tuning models to maximize roc_auc score none of model's accuracy has significantly deteriorated\n",
    "* from now I will only use those parameters"
   ]
  },
  {
   "cell_type": "markdown",
   "metadata": {},
   "source": [
    "### PLOTINNG ROC\n",
    "To have detail insight into chosen models I will plot their Receiver Operating Characteristic curves."
   ]
  },
  {
   "cell_type": "code",
   "execution_count": 26,
   "metadata": {},
   "outputs": [
    {
     "data": {
      "text/plain": [
       "GaussianNB(priors=None, var_smoothing=1e-09)"
      ]
     },
     "execution_count": 26,
     "metadata": {},
     "output_type": "execute_result"
    }
   ],
   "source": [
    "# fitting inputs to the models\n",
    "\n",
    "logreg = LogisticRegression(C = C_logreg, max_iter = 1000)\n",
    "logreg.fit(X_train, y_train)\n",
    "\n",
    "scv = SVC(C = C_svc, gamma = gamma_svc, probability = True)\n",
    "scv.fit(X_train, y_train)\n",
    "\n",
    "gausreg = GaussianNB()\n",
    "gausreg.fit(X_train, y_train)"
   ]
  },
  {
   "cell_type": "code",
   "execution_count": 27,
   "metadata": {},
   "outputs": [],
   "source": [
    "# predicting probabilities\n",
    "logreg_probs = logreg.predict_proba(X_test)[:, 1]\n",
    "scv_probs = scv.predict_proba(X_test)[:, 1]\n",
    "gausreg_probs = gausreg.predict_proba(X_test)[:, 1]\n",
    "\n",
    "r_probs = [0 for _ in range(len(y_test))]"
   ]
  },
  {
   "cell_type": "code",
   "execution_count": 28,
   "metadata": {},
   "outputs": [],
   "source": [
    "# calc. auc\n",
    "logreg_auc = roc_auc_score(y_test, logreg_probs)\n",
    "scv_auc = roc_auc_score(y_test, scv_probs)\n",
    "gausreg_auc = roc_auc_score(y_test, gausreg_probs)\n",
    "\n",
    "r_auc = roc_auc_score(y_test, r_probs)"
   ]
  },
  {
   "cell_type": "code",
   "execution_count": 29,
   "metadata": {},
   "outputs": [],
   "source": [
    "# calc. roc\n",
    "scv_fpr, scv_tpr, _ = roc_curve(y_test, scv_probs)\n",
    "logreg_fpr, logreg_tpr, _ = roc_curve(y_test, logreg_probs)\n",
    "gausreg_fpr, gausreg_tpr, _ = roc_curve(y_test, gausreg_probs)\n",
    "\n",
    "r_fpr, r_tpr, _ = roc_curve(y_test, r_probs)"
   ]
  },
  {
   "cell_type": "code",
   "execution_count": 30,
   "metadata": {
    "scrolled": false
   },
   "outputs": [
    {
     "data": {
      "image/png": "[encoded data removed]",
      "text/plain": [
       "<Figure size 432x288 with 1 Axes>"
      ]
     },
     "metadata": {
      "needs_background": "light"
     },
     "output_type": "display_data"
    }
   ],
   "source": [
    "# setting the plot\n",
    "\n",
    "plt.plot(scv_fpr, scv_tpr, marker='.', label='C-Support Vector Classification (AUROC = %0.2f)' % scv_auc, markersize = 0.1)\n",
    "plt.plot(logreg_fpr, logreg_tpr, marker='.', label='Logistic Regression (AUROC = %0.2f)' % logreg_auc, markersize = 0.1)\n",
    "plt.plot(gausreg_fpr, gausreg_tpr, marker='.', label='Gaussian Naive Bayes (AUROC = %0.2f)' % gausreg_auc, markersize = 0.1)\n",
    "\n",
    "plt.plot(r_fpr, r_tpr, linestyle='--', label='Random prediction (AUROC = %0.2f)' % r_auc)\n",
    "\n",
    "plt.title('ROC Plot')\n",
    "plt.xlabel('False Positive Rate')\n",
    "plt.ylabel('True Positive Rate')\n",
    "plt.legend()\n",
    "plt.show()"
   ]
  },
  {
   "cell_type": "markdown",
   "metadata": {},
   "source": [
    "* recived the ROC curve as well as the scores of accuracy and AUC indicate that the tuned Logistic Regression model is the best one."
   ]
  },
  {
   "cell_type": "markdown",
   "metadata": {},
   "source": [
    "### PREDICTING ON CAMPAIGN SUBSET"
   ]
  },
  {
   "cell_type": "code",
   "execution_count": 31,
   "metadata": {},
   "outputs": [],
   "source": [
    "# fitting the model\n",
    "logreg = LogisticRegression(C = C_logreg, max_iter = 1000)\n",
    "logreg.fit(X_train, y_train)\n",
    "y_pred = logreg.predict(X_test)"
   ]
  },
  {
   "cell_type": "code",
   "execution_count": 32,
   "metadata": {},
   "outputs": [],
   "source": [
    "#preprocessing campaign data\n",
    "X_camp = df_camp.drop([\"contact\", \"month\", \"default\", \"day_of_week\", \"duration\", \"campaign\", \"y\", \"test_control_flag\"], axis = \"columns\")\n",
    "y_camp = df_camp[[\"y\"]]\n",
    "\n",
    "column_trans = make_column_transformer(\n",
    "    (OneHotEncoder(), ['job', 'marital', 'education', 'housing', 'loan', 'poutcome']),\n",
    "    remainder='passthrough')\n",
    "\n",
    "X_camp_transformed = column_trans.fit_transform(X_camp)\n",
    "y_camp_transformed = np.ravel(y_camp)\n",
    "\n",
    "l = []\n",
    "for i in y_camp_transformed:\n",
    "    if i == \"yes\":\n",
    "        l.append(1)\n",
    "    else:\n",
    "        l.append(0)\n",
    "\n",
    "y_camp_transformed = l"
   ]
  },
  {
   "cell_type": "code",
   "execution_count": 33,
   "metadata": {},
   "outputs": [
    {
     "name": "stdout",
     "output_type": "stream",
     "text": [
      "[[ 112  614]\n",
      " [  55 6596]]\n",
      "Precision on control data: 0.6706586826347305\n"
     ]
    }
   ],
   "source": [
    "#scores on control data set\n",
    "print(confusion_matrix(y_test, y_pred, labels = [1, 0]))\n",
    "print(\"Precision on control data: {}\".format(precision_score(y_test, y_pred, labels = [1, 0])))"
   ]
  },
  {
   "cell_type": "code",
   "execution_count": 34,
   "metadata": {},
   "outputs": [],
   "source": [
    "#predicting labels on campaign data set\n",
    "y_camp_pred = logreg.predict(X_camp_transformed)"
   ]
  },
  {
   "cell_type": "code",
   "execution_count": 35,
   "metadata": {},
   "outputs": [
    {
     "name": "stdout",
     "output_type": "stream",
     "text": [
      "[[  283  1572]\n",
      " [  105 14505]]\n",
      "Precision on campaign data: 0.729381443298969\n"
     ]
    }
   ],
   "source": [
    "#scores on campaign data set\n",
    "print((confusion_matrix(y_camp_transformed, y_camp_pred, labels = [1, 0])))\n",
    "print(\"Precision on campaign data: {}\".format(precision_score(y_camp_transformed, y_camp_pred, labels = [1, 0])))"
   ]
  },
  {
   "cell_type": "markdown",
   "metadata": {},
   "source": [
    "* marketing campaign encourage people to accept the offered product, thus it \"softens\" the borders simulated within the model - that is why precision on campaign subset is higher (superb outcome)"
   ]
  },
  {
   "cell_type": "markdown",
   "metadata": {},
   "source": [
    "### THE LIFT\n",
    "To assess the lift of the model I assumed that \"the total campaign budget is fixed\" means that marketers have only capacity to call to fixed number of people or have fix time for those phone calls.\n",
    "\n",
    "Let's say that marketers have \"call-to list\". Probability that person buys a product is calculated by dividing actual number of people that bought the product by total number of people on the list. For model this metric is equivalent to its precision."
   ]
  },
  {
   "cell_type": "code",
   "execution_count": 36,
   "metadata": {},
   "outputs": [
    {
     "name": "stdout",
     "output_type": "stream",
     "text": [
      "precision_of_random_choice: 0.113\n",
      "precision_of_the_model: 0.729\n",
      "lift: 547.40%\n"
     ]
    }
   ],
   "source": [
    "#calc. the lift of the model\n",
    "\n",
    "precision_of_random_choice = len(df_camp[df_camp.y == \"yes\"].values)/len(df_camp.values)\n",
    "print(\"precision_of_random_choice: %0.3f\" %precision_of_random_choice)\n",
    "\n",
    "precision_of_the_model = precision_score(y_camp_transformed, y_camp_pred, labels = [1, 0])\n",
    "print(\"precision_of_the_model: %0.3f\" % precision_of_the_model)\n",
    "\n",
    "lift = (precision_of_the_model - precision_of_random_choice) / precision_of_random_choice\n",
    "print(\"lift: {:.2%}\".format(lift))"
   ]
  },
  {
   "cell_type": "markdown",
   "metadata": {},
   "source": [
    "* assuming that the profit from subscrition to the term deposit is also fixed for every transation, we might expect that the total profit will  increase 5 times."
   ]
  }
 ],
 "metadata": {
  "kernelspec": {
   "display_name": "Python 3",
   "language": "python",
   "name": "python3"
  },
  "language_info": {
   "codemirror_mode": {
    "name": "ipython",
    "version": 3
   },
   "file_extension": ".py",
   "mimetype": "text/x-python",
   "name": "python",
   "nbconvert_exporter": "python",
   "pygments_lexer": "ipython3",
   "version": "3.7.6"
  }
 },
 "nbformat": 4,
 "nbformat_minor": 4
}
